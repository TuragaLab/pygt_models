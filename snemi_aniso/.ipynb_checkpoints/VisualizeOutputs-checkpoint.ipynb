{
 "cells": [
  {
   "cell_type": "code",
   "execution_count": null,
   "metadata": {
    "collapsed": true
   },
   "outputs": [],
   "source": [
    "from __future__ import print_function\n",
    "import sys, os\n",
    "import h5py\n",
    "import numpy as np\n",
    "from numpy import float32, int32, uint8, dtype\n",
    "import sys\n",
    "\n",
    "# Relative path to where PyGreentea resides\n",
    "pygt_path = '../../PyGreentea'\n",
    "\n",
    "sys.path.append(os.path.join(os.path.dirname(__file__), pygt_path))\n",
    "\n",
    "# Other python modules\n",
    "import math\n",
    "\n",
    "# Load PyGreentea\n",
    "import PyGreentea as pygt\n",
    "import visualizer\n",
    "\n",
    "# Load the datasets\n",
    "raw_h5_fname = '/groups/turaga/home/turagas/data/SNEMI3D/train/raw.hdf5'\n",
    "gt_h5_fname = '/groups/turaga/home/turagas/data/SNEMI3D/train/labels_id.hdf5'\n",
    "aff_h5_fname = '/groups/turaga/home/turagas/data/SNEMI3D/train/labels_aff11.hdf5'\n",
    "test_h5_fname = 'test_out_0.h5'\n",
    "\n",
    "raw_h5f = h5py.File(raw_h5_fname,'r')\n",
    "gt_h5f = h5py.File(gt_h5_fname,'r')\n",
    "aff_h5f = h5py.File(aff_h5_fname,'r')\n",
    "test_h5f = h5py.File(test_h5_fname,'r')\n",
    "\n",
    "# visualizer.inspect_3D_hdf5(raw_h5f)\n",
    "# visualizer.inspect_3D_hdf5(gt_h5f)\n",
    "# visualizer.inspect_4D_hdf5(aff_h5f)\n",
    "# visualizer.inspect_4D_hdf5(test_h5f)\n",
    "visualizer.display_raw(raw_h5f['main'],50)\n",
    "visualizer.display_con(test_h5f['main'],50)"
   ]
  }
 ],
 "metadata": {
  "kernelspec": {
   "display_name": "Python 2",
   "language": "python",
   "name": "python2"
  },
  "language_info": {
   "codemirror_mode": {
    "name": "ipython",
    "version": 2
   },
   "file_extension": ".py",
   "mimetype": "text/x-python",
   "name": "python",
   "nbconvert_exporter": "python",
   "pygments_lexer": "ipython2",
   "version": "2.7.11"
  }
 },
 "nbformat": 4,
 "nbformat_minor": 0
}
