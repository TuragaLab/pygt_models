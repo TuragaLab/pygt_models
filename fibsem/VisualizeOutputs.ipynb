{
 "cells": [
  {
   "cell_type": "code",
   "execution_count": null,
   "metadata": {
    "collapsed": false
   },
   "outputs": [],
   "source": [
    "from __future__ import print_function\n",
    "import sys, os, math\n",
    "import h5py\n",
    "import numpy as np\n",
    "from scipy import io\n",
    "import matplotlib.pyplot as plt\n",
    "import matplotlib\n",
    "%matplotlib inline\n",
    "import seaborn as sns\n",
    "sns.set_style('dark')\n",
    "import malis"
   ]
  },
  {
   "cell_type": "code",
   "execution_count": null,
   "metadata": {
    "collapsed": false
   },
   "outputs": [],
   "source": [
    "# Load PyGreentea\n",
    "# Relative path to where PyGreentea resides\n",
    "pygt_path = '../../PyGreentea'\n",
    "sys.path.append(pygt_path)\n",
    "import PyGreentea as pygt"
   ]
  },
  {
   "cell_type": "code",
   "execution_count": null,
   "metadata": {
    "collapsed": false
   },
   "outputs": [],
   "source": [
    "# Load the datasets\n",
    "raw_h5_fname = '/groups/turaga/home/turagas/data/FlyEM/fibsem_medulla_7col/tstvol-520-1-h5/img_normalized.h5'\n",
    "gt_h5_fname = '/groups/turaga/home/turagas/data/FlyEM/fibsem_medulla_7col/tstvol-520-1-h5/groundtruth_seg_thick.h5'\n",
    "aff_h5_fname = '/groups/turaga/home/turagas/data/FlyEM/fibsem_medulla_7col/tstvol-520-1-h5/groundtruth_aff.h5'\n",
    "testeu_h5_fname = 'test_out_0.h5'\n",
    "test_h5_fname = 'test_out_0.h5'\n",
    "\n",
    "raw_h5f = h5py.File(raw_h5_fname,'r')\n",
    "gt_h5f = h5py.File(gt_h5_fname,'r')\n",
    "aff_h5f = h5py.File(aff_h5_fname,'r')\n",
    "testeu_h5f = h5py.File(testeu_h5_fname,'r')\n",
    "test_h5f = h5py.File(test_h5_fname,'r')\n",
    "\n",
    "raw = raw_h5f['main']\n",
    "gt = gt_h5f['main']\n",
    "aff = aff_h5f['main']\n",
    "testeu = testeu_h5f['main']\n",
    "test = test_h5f['main']"
   ]
  },
  {
   "cell_type": "code",
   "execution_count": null,
   "metadata": {
    "collapsed": false,
    "scrolled": false
   },
   "outputs": [],
   "source": [
    "nhood = malis.mknhood3d()\n",
    "seg,segSizes = malis.connected_components_affgraph((test[:]>0.85).astype(np.int32),nhood)\n",
    "cmap = matplotlib.colors.ListedColormap(np.vstack(((0,0,0),np.random.rand(len(segSizes),3))))\n",
    "print(\"Number of segments: \" + str(len(segSizes)))"
   ]
  },
  {
   "cell_type": "code",
   "execution_count": null,
   "metadata": {
    "collapsed": false
   },
   "outputs": [],
   "source": [
    "factor = 1000\n",
    "m=io.loadmat('loss.mat')\n",
    "m['loss']=m['loss'][:,:-1].reshape((-1,factor))\n",
    "m['t'] = np.arange(m['loss'].shape[0])*factor\n",
    "plt.plot(m['t'],np.mean(m['loss'],axis=1),'.-');\n",
    "plt.grid()"
   ]
  },
  {
   "cell_type": "code",
   "execution_count": null,
   "metadata": {
    "collapsed": false
   },
   "outputs": [],
   "source": [
    "z=50; offset=44\n",
    "plt.rcParams['figure.figsize'] = (18.0, 12.0)\n",
    "\n",
    "raw_slc=np.transpose(np.squeeze(raw[z+offset,:,:]),(1,0));\n",
    "gt_slc=np.transpose(np.squeeze(gt[z+offset,:,:]),(1,0))\n",
    "aff_slc=np.transpose(np.squeeze(aff[:3,z+offset,:,:]),(2,1,0)).astype(np.float)\n",
    "testeu_slc=np.transpose(np.squeeze(testeu[:3,z,:,:]),(2,1,0))\n",
    "test_slc=np.transpose(np.squeeze(test[:3,z,:,:]),(2,1,0))\n",
    "seg_slc=np.transpose(np.squeeze(seg[z,:,:]),(1,0))\n",
    "\n",
    "plt.rcParams['figure.figsize'] = (18.0, 12.0)\n",
    "\n",
    "plt.subplot(2,3,1)\n",
    "plt.axis('off')\n",
    "plt.imshow(raw_slc,cmap=plt.cm.get_cmap('gray'))\n",
    "\n",
    "plt.imshow(gt_slc,cmap=cmap,alpha=0.15);\n",
    "\n",
    "\n",
    "plt.subplot(2,3,2)\n",
    "plt.axis('off')\n",
    "plt.imshow(gt_slc,cmap=cmap);\n",
    "\n",
    "plt.subplot(2,3,3)\n",
    "plt.axis('off')\n",
    "plt.imshow(aff_slc,cmap=plt.cm.get_cmap('gray'));\n",
    "\n",
    "plt.subplot(2,3,4)\n",
    "plt.axis('off')\n",
    "plt.imshow(testeu_slc,cmap=plt.cm.get_cmap('gray'));\n",
    "\n",
    "plt.subplot(2,3,5)\n",
    "plt.axis('off')\n",
    "plt.imshow(seg_slc,cmap=cmap);\n",
    "\n",
    "plt.subplot(2,3,6)\n",
    "plt.axis('off')\n",
    "plt.imshow(test_slc,cmap=plt.cm.get_cmap('gray'));\n",
    "\n",
    "plt.show()"
   ]
  },
  {
   "cell_type": "code",
   "execution_count": null,
   "metadata": {
    "collapsed": true
   },
   "outputs": [],
   "source": []
  }
 ],
 "metadata": {
  "kernelspec": {
   "display_name": "Python 2",
   "language": "python",
   "name": "python2"
  },
  "language_info": {
   "codemirror_mode": {
    "name": "ipython",
    "version": 2
   },
   "file_extension": ".py",
   "mimetype": "text/x-python",
   "name": "python",
   "nbconvert_exporter": "python",
   "pygments_lexer": "ipython2",
   "version": "2.7.11"
  }
 },
 "nbformat": 4,
 "nbformat_minor": 0
}
